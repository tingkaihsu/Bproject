{
 "cells": [
  {
   "cell_type": "code",
   "execution_count": 5,
   "id": "2bc4cf20",
   "metadata": {},
   "outputs": [
    {
     "name": "stdout",
     "output_type": "stream",
     "text": [
      "0.12.0\n"
     ]
    }
   ],
   "source": [
    "import os\n",
    "import pandas as pd\n",
    "import numpy as np\n",
    "import awkward as ak\n",
    "import uproot_methods\n",
    "print(ak.__version__)"
   ]
  },
  {
   "cell_type": "code",
   "execution_count": 14,
   "id": "52264cf9",
   "metadata": {},
   "outputs": [],
   "source": [
    "##and Professor suggests that we could use mass, classifacation for later application\n",
    "def SetAKArr(filepath):\n",
    "    with open(filepath, 'r') as file:\n",
    "        lines = file.readlines()\n",
    "    px_lists = []\n",
    "    px_ls = []\n",
    "    py_lists = []\n",
    "    py_ls = []\n",
    "    pz_lists = []\n",
    "    pz_ls = []\n",
    "    e_lists = []\n",
    "    e_ls = []\n",
    "    mass_lists = []\n",
    "    mass_ls = []\n",
    "    _label1 = []\n",
    "    _label2 = []\n",
    "    for line in lines:\n",
    "        if line.startswith('E'):\n",
    "            exp_inf = line.split()\n",
    "            _label1.append(int(exp_inf[1]))\n",
    "            _label2.append(1-int(exp_inf[1]))\n",
    "            if px_ls:\n",
    "                px_lists.append(px_ls)\n",
    "            ##clear the data in px list\n",
    "#             print(px_ls)\n",
    "            if py_ls:\n",
    "                py_lists.append(py_ls)\n",
    "            if pz_ls:\n",
    "                pz_lists.append(pz_ls)\n",
    "            if e_ls:\n",
    "                e_lists.append(e_ls)\n",
    "            if mass_ls:\n",
    "                mass_lists.append(mass_ls)\n",
    "            px_ls = []\n",
    "            py_ls = []\n",
    "            pz_ls = []\n",
    "            e_ls = []\n",
    "            mass_ls = []\n",
    "        else:\n",
    "            par = line.split()\n",
    "            px_ls.append(float(par[1]))\n",
    "            py_ls.append(float(par[2]))\n",
    "            pz_ls.append(float(par[3]))\n",
    "            e_ls.append(float(par[4]))\n",
    "            mass_ls.append(float(par[5]))\n",
    "            \n",
    "#     print(_label)\n",
    "    px = ak.JaggedArray.fromiter(px_lists)\n",
    "    py = ak.JaggedArray.fromiter(py_lists)\n",
    "    pz = ak.JaggedArray.fromiter(pz_lists)\n",
    "    energy = ak.JaggedArray.fromiter(e_lists)\n",
    "    mass = ak.JaggedArray.fromiter(mass_lists)\n",
    "    p4 = uproot_methods.TLorentzVectorArray.from_cartesian(px, py, pz, energy)\n",
    "    ##Create an Order Dic\n",
    "    from collections import OrderedDict\n",
    "    v = OrderedDict()\n",
    "    v['part_px'] = px\n",
    "    v['part_py'] = py\n",
    "    v['part_pz'] = pz\n",
    "    v['part_energy'] = energy\n",
    "    v['part_mass'] = mass\n",
    "#     ls1 = [1,2,3,4]\n",
    "#     ls2 = [5,6,7,8]\n",
    "    v['label'] = np.stack((_label1, _label2), axis=-1)\n",
    "#     print(v['label'])\n",
    "    return v"
   ]
  },
  {
   "cell_type": "code",
   "execution_count": 15,
   "id": "4f057c05",
   "metadata": {},
   "outputs": [
    {
     "name": "stdout",
     "output_type": "stream",
     "text": [
      "[[1 0]\n",
      " [1 0]\n",
      " [1 0]\n",
      " ...\n",
      " [0 1]\n",
      " [0 1]\n",
      " [0 1]]\n"
     ]
    }
   ],
   "source": [
    "x = SetAKArr(\"train.txt\")"
   ]
  },
  {
   "cell_type": "code",
   "execution_count": 3,
   "id": "32d1c884",
   "metadata": {},
   "outputs": [
    {
     "name": "stdout",
     "output_type": "stream",
     "text": [
      "[[] [4.4 5.5]]\n",
      "[]\n"
     ]
    }
   ],
   "source": [
    "myarray = ak.JaggedArray.fromiter([[1.1, 2.2, 3.3], [], [4.4, 5.5]])\n",
    "print(myarray[1:])\n",
    "# returns <JaggedArray [[] [4.4 5.5]] at 7f02018afc18>\n",
    "print(myarray[100:])\n",
    "# returns <JaggedArray [] at 7f020c214438>"
   ]
  },
  {
   "cell_type": "code",
   "execution_count": 4,
   "id": "22a0477a",
   "metadata": {},
   "outputs": [
    {
     "data": {
      "text/plain": [
       "<JaggedArray [[2.2 3.3 3.3 1.1] [] [5.5]] at 0x7f1b71f976a0>"
      ]
     },
     "execution_count": 4,
     "metadata": {},
     "output_type": "execute_result"
    }
   ],
   "source": [
    "myarray = ak.JaggedArray.fromiter([[1.1, 2.2, 3.3], [], [4.4, 5.5]])\n",
    "indexes = ak.JaggedArray.fromiter([[1, 2, 2, 0], [], [1]])\n",
    "myarray[indexes]\n",
    "# returns <JaggedArray [[3.3 3.3 1.1] [] [5.5]] at 7f02018afa58>"
   ]
  },
  {
   "cell_type": "code",
   "execution_count": 14,
   "id": "1dc20dc5",
   "metadata": {},
   "outputs": [
    {
     "name": "stdout",
     "output_type": "stream",
     "text": [
      "[[1 2 3] [] [4 5]]\n",
      "[[<Row 0> <Row 1> <Row 2>] [] [<Row 3> <Row 4>]]\n",
      "['x', 'y']\n",
      "[<Row 0> <Row 1> <Row 2>]\n",
      "[[<Row 0> <Row 1> <Row 2>] [] [<Row 3> <Row 4>]]\n",
      "[[1 1 1] [] [3 3]]\n"
     ]
    }
   ],
   "source": [
    "myarray = ak.JaggedArray.fromcounts([3, 0, 2], ak.Table(\n",
    "              x=[1, 2, 3, 4, 5],\n",
    "              y=[1.1, 2.2, 3.3, 4.4, 5.5],\n",
    "              z=[True, False, True, False, False]))\n",
    "print(myarray[\"x\"])\n",
    "# returns <JaggedArray [[1 2 3] [] [4 5]] at 7f020e8122b0>\n",
    "print(myarray[[\"x\", \"y\"]])\n",
    "# returns <JaggedArray [[<Row 0> <Row 1> <Row 2>] [] [<Row 3> <Row 4>]] at 7f02018af860>\n",
    "print(myarray[[\"x\", \"y\"]].columns)\n",
    "# returns ['x', 'y']\n",
    "print(myarray.count())\n",
    "print(myarray)\n",
    "myarray[\"x\"] = [1, 2, 3, 4, 5]\n",
    "print(myarray[\"x\"])"
   ]
  }
 ],
 "metadata": {
  "kernelspec": {
   "display_name": "Python 3",
   "language": "python",
   "name": "python3"
  },
  "language_info": {
   "codemirror_mode": {
    "name": "ipython",
    "version": 3
   },
   "file_extension": ".py",
   "mimetype": "text/x-python",
   "name": "python",
   "nbconvert_exporter": "python",
   "pygments_lexer": "ipython3",
   "version": "3.5.5"
  }
 },
 "nbformat": 4,
 "nbformat_minor": 5
}
