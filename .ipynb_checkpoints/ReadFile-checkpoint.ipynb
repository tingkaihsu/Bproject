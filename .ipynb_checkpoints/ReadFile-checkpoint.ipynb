{
 "cells": [
  {
   "cell_type": "code",
   "execution_count": 1,
   "metadata": {},
   "outputs": [],
   "source": [
    "import numpy as np\n",
    "# from mpl_toolkits import mplot3d\n",
    "# import matplotlib.pyplot as plt\n",
    "import random\n",
    "# plt.style.use('seaborn-poster')"
   ]
  },
  {
   "cell_type": "code",
   "execution_count": 2,
   "metadata": {},
   "outputs": [],
   "source": [
    "def In(num, a, length):\n",
    "    for i in range(length):\n",
    "        if num == a[i]:\n",
    "            return True\n",
    "    return False"
   ]
  },
  {
   "cell_type": "code",
   "execution_count": 28,
   "metadata": {},
   "outputs": [],
   "source": [
    "##Read the file and construct the tree\n",
    "# dtype = [('pdgid', int), ('px', float), ('py', float),\n",
    "#          ('pz', float), ('energy', float), ('mass', float), ('vertex', int)]\n",
    "def ReadFile(infilepath, outfilepath, experiments):\n",
    "    with open(infilepath, 'r') as Input:\n",
    "        lines = Input.readlines()\n",
    "    Data = open(outfilepath, 'w')\n",
    "    events = 0\n",
    "    cur_ver = []\n",
    "    cur_exp = {}\n",
    "    first_exp = True\n",
    "#     first_ver = True\n",
    "    vertex = 0\n",
    "    Bparts = []\n",
    "    i = 1\n",
    "    for line in lines:\n",
    "        if line.startswith('E'):\n",
    "            if vertex != 0:\n",
    "                cur_exp[vertex] = cur_ver\n",
    "#                 print(cur_ver)\n",
    "                experiments.append(cur_exp)\n",
    "                cur_exp = {}\n",
    "#                 for exp in experiments:\n",
    "#                     for pars in exp.values():\n",
    "#                         for par in pars:\n",
    "#                             print(par)\n",
    "                ##need to clean the data of the Bparts\n",
    "                Bparts = []\n",
    "#                 mBparts = []\n",
    "                vertex = 0\n",
    "        elif line.startswith('V'):\n",
    "            if vertex != 0:\n",
    "                cur_exp[vertex] = cur_ver \n",
    "            cur_ver = []\n",
    "            vertex += 1\n",
    "        elif line.startswith('P'):\n",
    "            pdata = line.split()\n",
    "            cur_par = [int(pdata[2]), float(pdata[3]),\n",
    "                               float(pdata[4]), float(pdata[5]),\n",
    "                               float(pdata[6]), float(pdata[7]), \n",
    "                               int(pdata[11]), vertex]\n",
    "            ##The second last one would be which vertex do particle decay \n",
    "            cur_ver.append(cur_par)\n",
    "            ##when detecting 521 particles\n",
    "            if int(pdata[2]) == 521:\n",
    "                events += 1\n",
    "                #meeting next 521 particle in different experiments\n",
    "                Bparts = []\n",
    "                print('E 1 ', i, file = Data)\n",
    "                Bparts.append(int(pdata[11]))\n",
    "                i = i + 1\n",
    "#                 for j in cur_par:\n",
    "#                     print(j, end = ' ', file = Val)\n",
    "#                 print('', file = Val)\n",
    "#                 print(cur_par, file = Output)\n",
    "            if In(-cur_par[7], Bparts, len(Bparts)):\n",
    "                Bparts.append(int(pdata[11]))\n",
    "                if (cur_par[6] == 0):\n",
    "                    for k in cur_par:\n",
    "                        print(k, end = ' ', file = Data)\n",
    "        \n",
    "                    print('', file = Data)\n",
    "        if line == 'HepMC::IO_GenEvent-END_EVENT_LISTING':\n",
    "            cur_exp[vertex] = cur_ver\n",
    "            experiments.append(cur_exp)\n",
    "            break\n",
    "    cur_ver = []\n",
    "    cur_exp = {}\n",
    "    first_exp = True\n",
    "#     first_ver = True\n",
    "    vertex = 0\n",
    "    Bparts = []\n",
    "    i = 1           \n",
    "    for line in lines:\n",
    "        if line.startswith('E'):\n",
    "            if vertex != 0:\n",
    "                cur_exp[vertex] = cur_ver\n",
    "#                 print(cur_ver)\n",
    "                experiments.append(cur_exp)\n",
    "                cur_exp = {}\n",
    "#                 for exp in experiments:\n",
    "#                     for pars in exp.values():\n",
    "#                         for par in pars:\n",
    "#                             print(par)\n",
    "                ##need to clean the data of the Bparts\n",
    "                Bparts = []\n",
    "#                 mBparts = []\n",
    "                vertex = 0\n",
    "        elif line.startswith('V'):\n",
    "            if vertex != 0:\n",
    "                cur_exp[vertex] = cur_ver \n",
    "            cur_ver = []\n",
    "            vertex += 1\n",
    "        elif line.startswith('P'):\n",
    "            pdata = line.split()\n",
    "            cur_par = [int(pdata[2]), float(pdata[3]),\n",
    "                               float(pdata[4]), float(pdata[5]),\n",
    "                               float(pdata[6]), float(pdata[7]), \n",
    "                               int(pdata[11]), vertex]\n",
    "            ##The second last one would be which vertex do particle decay \n",
    "            cur_ver.append(cur_par)\n",
    "            ##when detecting 521 particles\n",
    "            if int(pdata[2]) == -521:\n",
    "                events += 1\n",
    "                #meeting next 521 particle in different experiments\n",
    "                Bparts = []\n",
    "                print('E 1 ', i, file = Data)\n",
    "                Bparts.append(int(pdata[11]))\n",
    "                i = i + 1\n",
    "#                 for j in cur_par:\n",
    "#                     print(j, end = ' ', file = Val)\n",
    "#                 print('', file = Val)\n",
    "#                 print(cur_par, file = Output)\n",
    "            if In(-cur_par[7], Bparts, len(Bparts)):\n",
    "                Bparts.append(int(pdata[11]))\n",
    "                if (cur_par[6] == 0):\n",
    "                    for k in cur_par:\n",
    "                        print(k, end = ' ', file = Data)\n",
    "\n",
    "                    print('', file = Data)\n",
    "        if line == 'HepMC::IO_GenEvent-END_EVENT_LISTING':\n",
    "            cur_exp[vertex] = cur_ver\n",
    "            experiments.append(cur_exp)\n",
    "            break\n",
    "    return events\n",
    "    Input.close()\n",
    "    Data.close()"
   ]
  },
  {
   "cell_type": "code",
   "execution_count": 29,
   "metadata": {
    "scrolled": true
   },
   "outputs": [
    {
     "name": "stdout",
     "output_type": "stream",
     "text": [
      "9744\n"
     ]
    }
   ],
   "source": [
    "experiments = []\n",
    "n = ReadFile('hepMCtest', 'data.txt', experiments)\n"
   ]
  },
  {
   "cell_type": "code",
   "execution_count": 4,
   "metadata": {},
   "outputs": [
    {
     "name": "stdout",
     "output_type": "stream",
     "text": [
      "False\n"
     ]
    }
   ],
   "source": [
    "ls = [1,2,3,4]\n",
    "n = 5\n",
    "print(In(n, ls, len(ls)))"
   ]
  },
  {
   "cell_type": "code",
   "execution_count": 13,
   "metadata": {},
   "outputs": [],
   "source": [
    "def Readpxpypz(filepath, px, py, pz):\n",
    "    with open(filepath, 'r') as file:\n",
    "        lines = file.readlines()\n",
    "    cur_exp = []\n",
    "    experiments = []\n",
    "    first = True\n",
    "\n",
    "    for line in lines:\n",
    "        if line.startswith('E'):\n",
    "            if first and not cur_exp:\n",
    "                first = False\n",
    "            else:\n",
    "                experiments.append(cur_exp)\n",
    "                cur_exp = []\n",
    "        elif line.startswith('P'):\n",
    "            pdata = line.split()\n",
    "            cur_par = [int(pdata[2]), float(pdata[3]),\n",
    "                               float(pdata[4]), float(pdata[5]),\n",
    "                               float(pdata[6]), float(pdata[6]),\n",
    "                               float(pdata[7]), int(pdata[11])]\n",
    "            if cur_par[7] == 0:\n",
    "                px.append(cur_par[1]+20)\n",
    "                py.append(cur_par[2]+20)\n",
    "                pz.append(cur_par[3]+20)\n",
    "            cur_exp.append(cur_par)\n",
    "        if line == 'HepMC::IO_GenEvent-END_EVENT_LISTING':\n",
    "            experiments.append(cur_exp)\n",
    "            break"
   ]
  },
  {
   "cell_type": "code",
   "execution_count": null,
   "metadata": {},
   "outputs": [],
   "source": []
  }
 ],
 "metadata": {
  "kernelspec": {
   "display_name": "Python 3",
   "language": "python",
   "name": "python3"
  },
  "language_info": {
   "codemirror_mode": {
    "name": "ipython",
    "version": 3
   },
   "file_extension": ".py",
   "mimetype": "text/x-python",
   "name": "python",
   "nbconvert_exporter": "python",
   "pygments_lexer": "ipython3",
   "version": "3.5.5"
  }
 },
 "nbformat": 4,
 "nbformat_minor": 2
}
