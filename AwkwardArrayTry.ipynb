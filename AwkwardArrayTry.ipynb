{
 "cells": [
  {
   "cell_type": "code",
   "execution_count": 2,
   "id": "b5bbd0be",
   "metadata": {},
   "outputs": [
    {
     "name": "stdout",
     "output_type": "stream",
     "text": [
      "0.12.0\n"
     ]
    }
   ],
   "source": [
    "import awkward as ak\n",
    "print(ak.__version__)"
   ]
  },
  {
   "cell_type": "code",
   "execution_count": 3,
   "id": "81dc7f8f",
   "metadata": {},
   "outputs": [
    {
     "name": "stdout",
     "output_type": "stream",
     "text": [
      "[[] [4.4 5.5]]\n",
      "[]\n"
     ]
    }
   ],
   "source": [
    "myarray = ak.JaggedArray.fromiter([[1.1, 2.2, 3.3], [], [4.4, 5.5]])\n",
    "print(myarray[1:])\n",
    "# returns <JaggedArray [[] [4.4 5.5]] at 7f02018afc18>\n",
    "print(myarray[100:])\n",
    "# returns <JaggedArray [] at 7f020c214438>"
   ]
  },
  {
   "cell_type": "code",
   "execution_count": 4,
   "id": "a2f5254e",
   "metadata": {},
   "outputs": [
    {
     "data": {
      "text/plain": [
       "<JaggedArray [[2.2 3.3 3.3 1.1] [] [5.5]] at 0x7f1b71f976a0>"
      ]
     },
     "execution_count": 4,
     "metadata": {},
     "output_type": "execute_result"
    }
   ],
   "source": [
    "myarray = ak.JaggedArray.fromiter([[1.1, 2.2, 3.3], [], [4.4, 5.5]])\n",
    "indexes = ak.JaggedArray.fromiter([[1, 2, 2, 0], [], [1]])\n",
    "myarray[indexes]\n",
    "# returns <JaggedArray [[3.3 3.3 1.1] [] [5.5]] at 7f02018afa58>"
   ]
  },
  {
   "cell_type": "code",
   "execution_count": 6,
   "id": "cc77d822",
   "metadata": {},
   "outputs": [
    {
     "name": "stdout",
     "output_type": "stream",
     "text": [
      "[[1 2 3] [] [4 5]]\n",
      "[[<Row 0> <Row 1> <Row 2>] [] [<Row 3> <Row 4>]]\n",
      "['x', 'y']\n",
      "[<Row 0> <Row 1> <Row 2>]\n"
     ]
    }
   ],
   "source": [
    "myarray = ak.JaggedArray.fromcounts([3, 0, 2], ak.Table(\n",
    "              x=[1, 2, 3, 4, 5],\n",
    "              y=[1.1, 2.2, 3.3, 4.4, 5.5],\n",
    "              z=[True, False, True, False, False]))\n",
    "print(myarray[\"x\"])\n",
    "# returns <JaggedArray [[1 2 3] [] [4 5]] at 7f020e8122b0>\n",
    "print(myarray[[\"x\", \"y\"]])\n",
    "# returns <JaggedArray [[<Row 0> <Row 1> <Row 2>] [] [<Row 3> <Row 4>]] at 7f02018af860>\n",
    "print(myarray[[\"x\", \"y\"]].columns)\n",
    "# returns ['x', 'y']\n",
    "print(myarray.count())"
   ]
  }
 ],
 "metadata": {
  "kernelspec": {
   "display_name": "Python 3",
   "language": "python",
   "name": "python3"
  },
  "language_info": {
   "codemirror_mode": {
    "name": "ipython",
    "version": 3
   },
   "file_extension": ".py",
   "mimetype": "text/x-python",
   "name": "python",
   "nbconvert_exporter": "python",
   "pygments_lexer": "ipython3",
   "version": "3.5.5"
  }
 },
 "nbformat": 4,
 "nbformat_minor": 5
}
